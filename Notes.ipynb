{
 "cells": [
  {
   "cell_type": "markdown",
   "id": "0905f4d4-1a01-49c1-831e-536b16ebced2",
   "metadata": {
    "editable": true,
    "slideshow": {
     "slide_type": ""
    },
    "tags": []
   },
   "source": [
    "# Notes"
   ]
  },
  {
   "cell_type": "markdown",
   "id": "d6ee1e8a-22e9-4d2c-8756-e44735b0e868",
   "metadata": {},
   "source": [
    "## Sources\n",
    "\n",
    "County level crime rate dataset by ICPSR: https://www.icpsr.umich.edu/web/ICPSR/studies/37059/datadocumentation (DS1 Dataset) Acessed: 6/6/24\n",
    "\n",
    "County level crime rate data for florida: https://www.fdle.state.fl.us/CJAB/UCR/Annual-Reports/UCR-Offense-Data Accessed: 7/10/24\n",
    "\n",
    "County level population data: https://data.census.gov/table/ACSDT1Y2016.B01003?q=Population%20Total&g=010XX00US$0500000&y=2016&moe=false&tp=true Accessed: 7/11/24\n",
    "\n",
    "County level education data for 25+ age: https://data.census.gov/table/ACSST1Y2016.S1501?q=education&g=010XX00US$0500000&moe=false&tp=true Accessed: 7/18/24\n",
    "## Thoughts\n",
    "\n",
    "2016 is the year for all these datasets because it is the most recent year that I can find county level crime data from. For more recent data, I might have to look at and combine datasets made by individual states. More recent years such as 2023 might not have enough data, and years such as 2020-2022 have data impacted by Covid-19, which could lead to inaccurate results.\n",
    "\n",
    "Also, the education dataset by the USDA is from 2018-2022, currently looking for a viable 2016 dataset. I might just have to pick a specific year, find state-made datasets for education and crime, and then combine them. This is because most USA wide county level education data seems to be between a set of years (such as 2018-22, or 2005-2016, etc.). Another option is to pick a state and just analyze that one state, because data is probable easier to find for individual states.\n",
    "\n",
    "More data is available for regional data, but I feel like education data across such a large area as a region will not be specific enough to analyze, due to the data being averaged across such a wide variety of educations levels. This averaging can remove variation within the data, and make it too general. \n",
    "\n",
    "Florida has 67/68 of its counties have a converage indicator of 0 in the ICPSR data, so I found a different dataset specifically for florida.\n",
    "\n",
    "Had to look through sevel different education datasets and crime datasets in order to find the ones I needed.\n"
   ]
  },
  {
   "cell_type": "code",
   "execution_count": null,
   "id": "394fabfb-2583-4490-9767-971354d8e4d6",
   "metadata": {},
   "outputs": [],
   "source": []
  }
 ],
 "metadata": {
  "kernelspec": {
   "display_name": "Python 3 (ipykernel)",
   "language": "python",
   "name": "python3"
  },
  "language_info": {
   "codemirror_mode": {
    "name": "ipython",
    "version": 3
   },
   "file_extension": ".py",
   "mimetype": "text/x-python",
   "name": "python",
   "nbconvert_exporter": "python",
   "pygments_lexer": "ipython3",
   "version": "3.12.3"
  }
 },
 "nbformat": 4,
 "nbformat_minor": 5
}
