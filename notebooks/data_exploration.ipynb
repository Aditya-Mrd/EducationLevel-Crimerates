{
 "cells": [
  {
   "cell_type": "code",
   "execution_count": 25,
   "id": "1cb01144-eeb2-4951-9f6c-adb5314c870d",
   "metadata": {},
   "outputs": [
    {
     "name": "stdout",
     "output_type": "stream",
     "text": [
      "Collecting xlrd\n",
      "  Downloading xlrd-2.0.1-py2.py3-none-any.whl.metadata (3.4 kB)\n",
      "Downloading xlrd-2.0.1-py2.py3-none-any.whl (96 kB)\n",
      "   ---------------------------------------- 0.0/96.5 kB ? eta -:--:--\n",
      "   ---- ----------------------------------- 10.2/96.5 kB ? eta -:--:--\n",
      "   ----------------------------- ---------- 71.7/96.5 kB 975.2 kB/s eta 0:00:01\n",
      "   ---------------------------------------- 96.5/96.5 kB 1.1 MB/s eta 0:00:00\n",
      "Installing collected packages: xlrd\n",
      "Successfully installed xlrd-2.0.1\n",
      "Note: you may need to restart the kernel to use updated packages.\n"
     ]
    }
   ],
   "source": [
    "%pip install xlrd\n",
    "import pandas as pd\n"
   ]
  },
  {
   "cell_type": "code",
   "execution_count": 29,
   "id": "6c15d038-1df9-4c4a-a669-0c64817feee5",
   "metadata": {},
   "outputs": [],
   "source": [
    "data = pd.read_csv('C:/Users/madir/JupyterStonks/RenaissanceEXL/table-6.csv')"
   ]
  },
  {
   "cell_type": "code",
   "execution_count": 36,
   "id": "dee03c15-50bc-4edc-bef2-c6ac606ee876",
   "metadata": {},
   "outputs": [
    {
     "data": {
      "text/plain": [
       "Table 6                                  NaN\n",
       "Unnamed: 1     Total area actually reporting\n",
       "Unnamed: 2                             94.5%\n",
       "Unnamed: 3                            2,540 \n",
       "Unnamed: 4                               33 \n",
       "Unnamed: 5                              285 \n",
       "Unnamed: 6                              443 \n",
       "Unnamed: 7                            1,779 \n",
       "Unnamed: 8                           13,746 \n",
       "Unnamed: 9                            2,687 \n",
       "Unnamed: 10                          10,196 \n",
       "Unnamed: 11                             863 \n",
       "Name: 11, dtype: object"
      ]
     },
     "execution_count": 36,
     "metadata": {},
     "output_type": "execute_result"
    }
   ],
   "source": [
    "data.iloc[11]"
   ]
  },
  {
   "cell_type": "code",
   "execution_count": null,
   "id": "82fc40bf-24d8-41c3-8cbb-244885b471a1",
   "metadata": {},
   "outputs": [],
   "source": []
  }
 ],
 "metadata": {
  "kernelspec": {
   "display_name": "Python 3 (ipykernel)",
   "language": "python",
   "name": "python3"
  },
  "language_info": {
   "codemirror_mode": {
    "name": "ipython",
    "version": 3
   },
   "file_extension": ".py",
   "mimetype": "text/x-python",
   "name": "python",
   "nbconvert_exporter": "python",
   "pygments_lexer": "ipython3",
   "version": "3.12.3"
  }
 },
 "nbformat": 4,
 "nbformat_minor": 5
}
