{
 "cells": [
  {
   "cell_type": "code",
   "execution_count": 28,
   "id": "4ecf7b9c-e70e-4284-afbb-833ba9c6f673",
   "metadata": {},
   "outputs": [
    {
     "name": "stdout",
     "output_type": "stream",
     "text": [
      "Requirement already satisfied: openpyxl in /opt/anaconda3/envs/renaissance_exl/lib/python3.12/site-packages (3.1.5)\n",
      "Requirement already satisfied: et-xmlfile in /opt/anaconda3/envs/renaissance_exl/lib/python3.12/site-packages (from openpyxl) (1.1.0)\n",
      "Note: you may need to restart the kernel to use updated packages.\n"
     ]
    }
   ],
   "source": [
    "%pip install  openpyxl\n",
    "import pandas as pd \n",
    "import numpy as np\n",
    "import matplotlib.pyplot as plt\n",
    "%matplotlib inline\n",
    "import seaborn as sns\n",
    "from matplotlib.offsetbox import AnchoredText"
   ]
  },
  {
   "cell_type": "code",
   "execution_count": 29,
   "id": "e4df1510-af15-4d80-8e83-00457cfaff6f",
   "metadata": {},
   "outputs": [],
   "source": [
    "final_data = pd.read_csv('../data/final_data.csv')"
   ]
  },
  {
   "cell_type": "code",
   "execution_count": 30,
   "id": "341bfdb6-8886-4504-bb17-89c3f8b367a4",
   "metadata": {},
   "outputs": [
    {
     "data": {
      "text/html": [
       "<div>\n",
       "<style scoped>\n",
       "    .dataframe tbody tr th:only-of-type {\n",
       "        vertical-align: middle;\n",
       "    }\n",
       "\n",
       "    .dataframe tbody tr th {\n",
       "        vertical-align: top;\n",
       "    }\n",
       "\n",
       "    .dataframe thead th {\n",
       "        text-align: right;\n",
       "    }\n",
       "</style>\n",
       "<table border=\"1\" class=\"dataframe\">\n",
       "  <thead>\n",
       "    <tr style=\"text-align: right;\">\n",
       "      <th></th>\n",
       "      <th>Unnamed: 0</th>\n",
       "      <th>FIPS_ST</th>\n",
       "      <th>FIPS_CTY</th>\n",
       "      <th>GRNDTOT</th>\n",
       "      <th>MURDER</th>\n",
       "      <th>RAPE</th>\n",
       "      <th>ROBBERY</th>\n",
       "      <th>AGASSLT</th>\n",
       "      <th>State_CTY</th>\n",
       "      <th>Population</th>\n",
       "      <th>Crime_Rates</th>\n",
       "      <th>Population 25 years and over!!Less than 9th grade</th>\n",
       "      <th>Population 25 years and over!!9th to 12th grade, no diploma</th>\n",
       "      <th>Population 25 years and over!!High school graduate (includes equivalency)</th>\n",
       "      <th>Population 25 years and over!!Some college, no degree</th>\n",
       "      <th>Population 25 years and over!!Associate's degree</th>\n",
       "      <th>Population 25 years and over!!Bachelor's degree</th>\n",
       "      <th>Population 25 years and over!!Graduate or professional degree</th>\n",
       "      <th>Percent high school graduate or higher</th>\n",
       "      <th>Percent bachelor's degree or higher</th>\n",
       "    </tr>\n",
       "  </thead>\n",
       "  <tbody>\n",
       "    <tr>\n",
       "      <th>0</th>\n",
       "      <td>0</td>\n",
       "      <td>Alabama</td>\n",
       "      <td>3</td>\n",
       "      <td>490</td>\n",
       "      <td>7</td>\n",
       "      <td>35</td>\n",
       "      <td>130</td>\n",
       "      <td>318</td>\n",
       "      <td>Alabama3</td>\n",
       "      <td>208563</td>\n",
       "      <td>234.941001</td>\n",
       "      <td>2.9</td>\n",
       "      <td>7.1</td>\n",
       "      <td>28.5</td>\n",
       "      <td>21.2</td>\n",
       "      <td>10.6</td>\n",
       "      <td>17.4</td>\n",
       "      <td>12.3</td>\n",
       "      <td>89.9</td>\n",
       "      <td>29.6</td>\n",
       "    </tr>\n",
       "    <tr>\n",
       "      <th>1</th>\n",
       "      <td>1</td>\n",
       "      <td>Alabama</td>\n",
       "      <td>15</td>\n",
       "      <td>303</td>\n",
       "      <td>8</td>\n",
       "      <td>17</td>\n",
       "      <td>65</td>\n",
       "      <td>213</td>\n",
       "      <td>Alabama15</td>\n",
       "      <td>114611</td>\n",
       "      <td>264.372530</td>\n",
       "      <td>6.5</td>\n",
       "      <td>11.3</td>\n",
       "      <td>31.7</td>\n",
       "      <td>27.1</td>\n",
       "      <td>7.0</td>\n",
       "      <td>9.3</td>\n",
       "      <td>7.2</td>\n",
       "      <td>82.2</td>\n",
       "      <td>16.5</td>\n",
       "    </tr>\n",
       "    <tr>\n",
       "      <th>2</th>\n",
       "      <td>2</td>\n",
       "      <td>Alabama</td>\n",
       "      <td>43</td>\n",
       "      <td>28</td>\n",
       "      <td>1</td>\n",
       "      <td>4</td>\n",
       "      <td>3</td>\n",
       "      <td>20</td>\n",
       "      <td>Alabama43</td>\n",
       "      <td>82471</td>\n",
       "      <td>33.951328</td>\n",
       "      <td>8.0</td>\n",
       "      <td>14.6</td>\n",
       "      <td>32.2</td>\n",
       "      <td>18.3</td>\n",
       "      <td>10.0</td>\n",
       "      <td>11.4</td>\n",
       "      <td>5.5</td>\n",
       "      <td>77.4</td>\n",
       "      <td>16.9</td>\n",
       "    </tr>\n",
       "    <tr>\n",
       "      <th>3</th>\n",
       "      <td>3</td>\n",
       "      <td>Alabama</td>\n",
       "      <td>49</td>\n",
       "      <td>39</td>\n",
       "      <td>2</td>\n",
       "      <td>1</td>\n",
       "      <td>1</td>\n",
       "      <td>35</td>\n",
       "      <td>Alabama49</td>\n",
       "      <td>70900</td>\n",
       "      <td>55.007052</td>\n",
       "      <td>10.3</td>\n",
       "      <td>15.3</td>\n",
       "      <td>31.8</td>\n",
       "      <td>22.1</td>\n",
       "      <td>9.7</td>\n",
       "      <td>6.8</td>\n",
       "      <td>4.1</td>\n",
       "      <td>74.4</td>\n",
       "      <td>10.9</td>\n",
       "    </tr>\n",
       "    <tr>\n",
       "      <th>4</th>\n",
       "      <td>4</td>\n",
       "      <td>Alabama</td>\n",
       "      <td>55</td>\n",
       "      <td>185</td>\n",
       "      <td>7</td>\n",
       "      <td>4</td>\n",
       "      <td>35</td>\n",
       "      <td>139</td>\n",
       "      <td>Alabama55</td>\n",
       "      <td>102564</td>\n",
       "      <td>180.375180</td>\n",
       "      <td>6.3</td>\n",
       "      <td>12.2</td>\n",
       "      <td>34.8</td>\n",
       "      <td>23.5</td>\n",
       "      <td>7.7</td>\n",
       "      <td>9.7</td>\n",
       "      <td>5.9</td>\n",
       "      <td>81.5</td>\n",
       "      <td>15.6</td>\n",
       "    </tr>\n",
       "    <tr>\n",
       "      <th>...</th>\n",
       "      <td>...</td>\n",
       "      <td>...</td>\n",
       "      <td>...</td>\n",
       "      <td>...</td>\n",
       "      <td>...</td>\n",
       "      <td>...</td>\n",
       "      <td>...</td>\n",
       "      <td>...</td>\n",
       "      <td>...</td>\n",
       "      <td>...</td>\n",
       "      <td>...</td>\n",
       "      <td>...</td>\n",
       "      <td>...</td>\n",
       "      <td>...</td>\n",
       "      <td>...</td>\n",
       "      <td>...</td>\n",
       "      <td>...</td>\n",
       "      <td>...</td>\n",
       "      <td>...</td>\n",
       "      <td>...</td>\n",
       "    </tr>\n",
       "    <tr>\n",
       "      <th>767</th>\n",
       "      <td>767</td>\n",
       "      <td>Wisconsin</td>\n",
       "      <td>133</td>\n",
       "      <td>225</td>\n",
       "      <td>24</td>\n",
       "      <td>27</td>\n",
       "      <td>51</td>\n",
       "      <td>123</td>\n",
       "      <td>Wisconsin133</td>\n",
       "      <td>134296</td>\n",
       "      <td>167.540359</td>\n",
       "      <td>1.1</td>\n",
       "      <td>2.8</td>\n",
       "      <td>23.7</td>\n",
       "      <td>19.8</td>\n",
       "      <td>9.7</td>\n",
       "      <td>27.8</td>\n",
       "      <td>15.1</td>\n",
       "      <td>96.1</td>\n",
       "      <td>42.9</td>\n",
       "    </tr>\n",
       "    <tr>\n",
       "      <th>768</th>\n",
       "      <td>768</td>\n",
       "      <td>Wisconsin</td>\n",
       "      <td>139</td>\n",
       "      <td>200</td>\n",
       "      <td>1</td>\n",
       "      <td>5</td>\n",
       "      <td>38</td>\n",
       "      <td>156</td>\n",
       "      <td>Wisconsin139</td>\n",
       "      <td>398424</td>\n",
       "      <td>50.197779</td>\n",
       "      <td>2.1</td>\n",
       "      <td>5.7</td>\n",
       "      <td>34.0</td>\n",
       "      <td>19.7</td>\n",
       "      <td>10.1</td>\n",
       "      <td>20.3</td>\n",
       "      <td>8.1</td>\n",
       "      <td>92.2</td>\n",
       "      <td>28.4</td>\n",
       "    </tr>\n",
       "    <tr>\n",
       "      <th>769</th>\n",
       "      <td>769</td>\n",
       "      <td>Wisconsin</td>\n",
       "      <td>141</td>\n",
       "      <td>15</td>\n",
       "      <td>1</td>\n",
       "      <td>5</td>\n",
       "      <td>2</td>\n",
       "      <td>7</td>\n",
       "      <td>Wisconsin141</td>\n",
       "      <td>169886</td>\n",
       "      <td>8.829450</td>\n",
       "      <td>2.6</td>\n",
       "      <td>5.6</td>\n",
       "      <td>37.2</td>\n",
       "      <td>20.2</td>\n",
       "      <td>13.1</td>\n",
       "      <td>12.6</td>\n",
       "      <td>8.7</td>\n",
       "      <td>91.8</td>\n",
       "      <td>21.3</td>\n",
       "    </tr>\n",
       "    <tr>\n",
       "      <th>770</th>\n",
       "      <td>770</td>\n",
       "      <td>Wyoming</td>\n",
       "      <td>21</td>\n",
       "      <td>99</td>\n",
       "      <td>1</td>\n",
       "      <td>6</td>\n",
       "      <td>9</td>\n",
       "      <td>83</td>\n",
       "      <td>Wyoming21</td>\n",
       "      <td>73107</td>\n",
       "      <td>135.417949</td>\n",
       "      <td>1.7</td>\n",
       "      <td>4.3</td>\n",
       "      <td>25.3</td>\n",
       "      <td>26.5</td>\n",
       "      <td>14.9</td>\n",
       "      <td>17.4</td>\n",
       "      <td>9.9</td>\n",
       "      <td>94.0</td>\n",
       "      <td>27.3</td>\n",
       "    </tr>\n",
       "    <tr>\n",
       "      <th>771</th>\n",
       "      <td>771</td>\n",
       "      <td>Wyoming</td>\n",
       "      <td>25</td>\n",
       "      <td>68</td>\n",
       "      <td>2</td>\n",
       "      <td>11</td>\n",
       "      <td>3</td>\n",
       "      <td>52</td>\n",
       "      <td>Wyoming25</td>\n",
       "      <td>98136</td>\n",
       "      <td>69.291595</td>\n",
       "      <td>0.6</td>\n",
       "      <td>5.2</td>\n",
       "      <td>33.9</td>\n",
       "      <td>24.9</td>\n",
       "      <td>11.9</td>\n",
       "      <td>14.3</td>\n",
       "      <td>9.2</td>\n",
       "      <td>94.1</td>\n",
       "      <td>23.5</td>\n",
       "    </tr>\n",
       "  </tbody>\n",
       "</table>\n",
       "<p>772 rows × 20 columns</p>\n",
       "</div>"
      ],
      "text/plain": [
       "     Unnamed: 0    FIPS_ST  FIPS_CTY  GRNDTOT  MURDER  RAPE  ROBBERY  AGASSLT  \\\n",
       "0             0    Alabama         3      490       7    35      130      318   \n",
       "1             1    Alabama        15      303       8    17       65      213   \n",
       "2             2    Alabama        43       28       1     4        3       20   \n",
       "3             3    Alabama        49       39       2     1        1       35   \n",
       "4             4    Alabama        55      185       7     4       35      139   \n",
       "..          ...        ...       ...      ...     ...   ...      ...      ...   \n",
       "767         767  Wisconsin       133      225      24    27       51      123   \n",
       "768         768  Wisconsin       139      200       1     5       38      156   \n",
       "769         769  Wisconsin       141       15       1     5        2        7   \n",
       "770         770    Wyoming        21       99       1     6        9       83   \n",
       "771         771    Wyoming        25       68       2    11        3       52   \n",
       "\n",
       "        State_CTY  Population  Crime_Rates  \\\n",
       "0        Alabama3      208563   234.941001   \n",
       "1       Alabama15      114611   264.372530   \n",
       "2       Alabama43       82471    33.951328   \n",
       "3       Alabama49       70900    55.007052   \n",
       "4       Alabama55      102564   180.375180   \n",
       "..            ...         ...          ...   \n",
       "767  Wisconsin133      134296   167.540359   \n",
       "768  Wisconsin139      398424    50.197779   \n",
       "769  Wisconsin141      169886     8.829450   \n",
       "770     Wyoming21       73107   135.417949   \n",
       "771     Wyoming25       98136    69.291595   \n",
       "\n",
       "     Population 25 years and over!!Less than 9th grade  \\\n",
       "0                                                  2.9   \n",
       "1                                                  6.5   \n",
       "2                                                  8.0   \n",
       "3                                                 10.3   \n",
       "4                                                  6.3   \n",
       "..                                                 ...   \n",
       "767                                                1.1   \n",
       "768                                                2.1   \n",
       "769                                                2.6   \n",
       "770                                                1.7   \n",
       "771                                                0.6   \n",
       "\n",
       "     Population 25 years and over!!9th to 12th grade, no diploma  \\\n",
       "0                                                  7.1             \n",
       "1                                                 11.3             \n",
       "2                                                 14.6             \n",
       "3                                                 15.3             \n",
       "4                                                 12.2             \n",
       "..                                                 ...             \n",
       "767                                                2.8             \n",
       "768                                                5.7             \n",
       "769                                                5.6             \n",
       "770                                                4.3             \n",
       "771                                                5.2             \n",
       "\n",
       "     Population 25 years and over!!High school graduate (includes equivalency)  \\\n",
       "0                                                 28.5                           \n",
       "1                                                 31.7                           \n",
       "2                                                 32.2                           \n",
       "3                                                 31.8                           \n",
       "4                                                 34.8                           \n",
       "..                                                 ...                           \n",
       "767                                               23.7                           \n",
       "768                                               34.0                           \n",
       "769                                               37.2                           \n",
       "770                                               25.3                           \n",
       "771                                               33.9                           \n",
       "\n",
       "     Population 25 years and over!!Some college, no degree  \\\n",
       "0                                                 21.2       \n",
       "1                                                 27.1       \n",
       "2                                                 18.3       \n",
       "3                                                 22.1       \n",
       "4                                                 23.5       \n",
       "..                                                 ...       \n",
       "767                                               19.8       \n",
       "768                                               19.7       \n",
       "769                                               20.2       \n",
       "770                                               26.5       \n",
       "771                                               24.9       \n",
       "\n",
       "     Population 25 years and over!!Associate's degree  \\\n",
       "0                                                10.6   \n",
       "1                                                 7.0   \n",
       "2                                                10.0   \n",
       "3                                                 9.7   \n",
       "4                                                 7.7   \n",
       "..                                                ...   \n",
       "767                                               9.7   \n",
       "768                                              10.1   \n",
       "769                                              13.1   \n",
       "770                                              14.9   \n",
       "771                                              11.9   \n",
       "\n",
       "     Population 25 years and over!!Bachelor's degree  \\\n",
       "0                                               17.4   \n",
       "1                                                9.3   \n",
       "2                                               11.4   \n",
       "3                                                6.8   \n",
       "4                                                9.7   \n",
       "..                                               ...   \n",
       "767                                             27.8   \n",
       "768                                             20.3   \n",
       "769                                             12.6   \n",
       "770                                             17.4   \n",
       "771                                             14.3   \n",
       "\n",
       "     Population 25 years and over!!Graduate or professional degree  \\\n",
       "0                                                 12.3               \n",
       "1                                                  7.2               \n",
       "2                                                  5.5               \n",
       "3                                                  4.1               \n",
       "4                                                  5.9               \n",
       "..                                                 ...               \n",
       "767                                               15.1               \n",
       "768                                                8.1               \n",
       "769                                                8.7               \n",
       "770                                                9.9               \n",
       "771                                                9.2               \n",
       "\n",
       "     Percent high school graduate or higher  \\\n",
       "0                                      89.9   \n",
       "1                                      82.2   \n",
       "2                                      77.4   \n",
       "3                                      74.4   \n",
       "4                                      81.5   \n",
       "..                                      ...   \n",
       "767                                    96.1   \n",
       "768                                    92.2   \n",
       "769                                    91.8   \n",
       "770                                    94.0   \n",
       "771                                    94.1   \n",
       "\n",
       "     Percent bachelor's degree or higher  \n",
       "0                                   29.6  \n",
       "1                                   16.5  \n",
       "2                                   16.9  \n",
       "3                                   10.9  \n",
       "4                                   15.6  \n",
       "..                                   ...  \n",
       "767                                 42.9  \n",
       "768                                 28.4  \n",
       "769                                 21.3  \n",
       "770                                 27.3  \n",
       "771                                 23.5  \n",
       "\n",
       "[772 rows x 20 columns]"
      ]
     },
     "execution_count": 30,
     "metadata": {},
     "output_type": "execute_result"
    }
   ],
   "source": [
    "final_data"
   ]
  },
  {
   "cell_type": "code",
   "execution_count": null,
   "id": "383c20e4-5fbe-4492-8dd5-0fd00d03584a",
   "metadata": {},
   "outputs": [
    {
     "name": "stdout",
     "output_type": "stream",
     "text": [
      "Collecting scikit-learn\n",
      "  Downloading scikit_learn-1.5.2-cp312-cp312-macosx_12_0_arm64.whl.metadata (13 kB)\n",
      "Requirement already satisfied: numpy>=1.19.5 in /opt/anaconda3/envs/renaissance_exl/lib/python3.12/site-packages (from scikit-learn) (2.1.1)\n",
      "Collecting scipy>=1.6.0 (from scikit-learn)\n",
      "  Downloading scipy-1.14.1-cp312-cp312-macosx_14_0_arm64.whl.metadata (60 kB)\n",
      "Collecting joblib>=1.2.0 (from scikit-learn)\n",
      "  Downloading joblib-1.4.2-py3-none-any.whl.metadata (5.4 kB)\n",
      "Collecting threadpoolctl>=3.1.0 (from scikit-learn)\n",
      "  Downloading threadpoolctl-3.5.0-py3-none-any.whl.metadata (13 kB)\n",
      "Downloading scikit_learn-1.5.2-cp312-cp312-macosx_12_0_arm64.whl (11.0 MB)\n",
      "\u001b[2K   \u001b[90m━━━━━━━━━━━━━━━━━━━━━━━━━━━━━━━━━━━━━━━━\u001b[0m \u001b[32m11.0/11.0 MB\u001b[0m \u001b[31m2.5 MB/s\u001b[0m eta \u001b[36m0:00:00\u001b[0ma \u001b[36m0:00:01\u001b[0m\n",
      "\u001b[?25hDownloading joblib-1.4.2-py3-none-any.whl (301 kB)\n",
      "Downloading scipy-1.14.1-cp312-cp312-macosx_14_0_arm64.whl (23.1 MB)\n",
      "\u001b[2K   \u001b[91m━━━━━━━━━━\u001b[0m\u001b[90m╺\u001b[0m\u001b[90m━━━━━━━━━━━━━━━━━━━━━━━━━━━━━\u001b[0m \u001b[32m6.0/23.1 MB\u001b[0m \u001b[31m2.5 MB/s\u001b[0m eta \u001b[36m0:00:07\u001b[0m"
     ]
    }
   ],
   "source": [
    "%pip install -U scikit-learn\n",
    "from sklearn.linear_model import LinearRegression"
   ]
  },
  {
   "cell_type": "code",
   "execution_count": null,
   "id": "846add79-5ebf-4243-8b17-69f93f5883b5",
   "metadata": {},
   "outputs": [],
   "source": [
    "model1 = LinearRegression().fit(final_data[\"Population 25 years and over!!Graduate or professional degree\"].astype(int).values.reshape(-1,1),final_data['Crime_Rates'].astype(int).values)"
   ]
  },
  {
   "cell_type": "code",
   "execution_count": null,
   "id": "b3e75513-3aeb-4d18-a93a-8e0a97f41860",
   "metadata": {},
   "outputs": [],
   "source": [
    "plt.scatter(final_data[\"Population 25 years and over!!Graduate or professional degree\"].astype(int),final_data['Crime_Rates'].astype(int))\n",
    "plt.plot(range(0,40), model1.predict(np.array(range(0,40)).reshape(-1,1)))"
   ]
  },
  {
   "cell_type": "code",
   "execution_count": null,
   "id": "327a03b9-ee12-4f82-99d2-e1bc2e8eadb3",
   "metadata": {},
   "outputs": [],
   "source": [
    "#more crime with higher education... lack of data points with low education maybe?\n",
    "plt.scatter(final_data[\"Percent high school graduate or higher\"][final_data['Crime_Rates'][final_data['Crime_Rates']<1000].index].astype(int),final_data['Crime_Rates'][final_data['Crime_Rates']<1000].astype(int))"
   ]
  },
  {
   "cell_type": "code",
   "execution_count": null,
   "id": "1387f1a4-d4dc-4ef4-8b16-383600f3457b",
   "metadata": {},
   "outputs": [],
   "source": [
    "model = np.poly1d(np.polyfit(final_data[\"Percent bachelor's degree or higher\"][final_data['Crime_Rates'][final_data['Crime_Rates']<1000].index].astype(int),final_data['Crime_Rates'][final_data['Crime_Rates']<1000].astype(int),1))"
   ]
  },
  {
   "cell_type": "code",
   "execution_count": null,
   "id": "a10dd858-d543-4d58-89fb-3f7410e64406",
   "metadata": {},
   "outputs": [],
   "source": [
    "reg = LinearRegression().fit(final_data[\"Percent bachelor's degree or higher\"][final_data['Crime_Rates'][final_data['Crime_Rates']<1000].index].astype(int).values.reshape(-1, 1), final_data['Crime_Rates'][final_data['Crime_Rates']<1000].astype(int).values)"
   ]
  },
  {
   "cell_type": "code",
   "execution_count": null,
   "id": "21d4e911-50f0-4d52-8928-964a2c605b52",
   "metadata": {},
   "outputs": [],
   "source": [
    "reg.predict(np.array(20).reshape(-1,1))"
   ]
  },
  {
   "cell_type": "code",
   "execution_count": null,
   "id": "75ea7af4-4fa3-4c77-a5ed-9784f0617633",
   "metadata": {},
   "outputs": [],
   "source": [
    "#plotting all crime data points less than 1000 against bachelors degree or higher\n",
    "plt.scatter(final_data[\"Percent bachelor's degree or higher\"][final_data['Crime_Rates'][final_data['Crime_Rates']<1000].index].astype(int),final_data['Crime_Rates'][final_data['Crime_Rates']<1000].astype(int))\n",
    "plt.plot(range(10,71), reg.predict(np.array(range(10,71)).reshape(-1,1)))"
   ]
  },
  {
   "cell_type": "code",
   "execution_count": null,
   "id": "5766b5ef-b6ed-49eb-9a70-f6a52ac774bd",
   "metadata": {},
   "outputs": [],
   "source": [
    "for i in final_data.iloc[:, 4:8]:\n",
    "    final_data[i] = (final_data[i].astype(int)/final_data['Population'])*100000"
   ]
  },
  {
   "cell_type": "code",
   "execution_count": null,
   "id": "178395fa-6513-4eae-bc33-77b7dd2a43a5",
   "metadata": {},
   "outputs": [],
   "source": [
    "final_data"
   ]
  },
  {
   "cell_type": "code",
   "execution_count": null,
   "id": "c09393e5-7752-4580-a91f-3dfaef3f83a3",
   "metadata": {},
   "outputs": [],
   "source": [
    "plt.scatter(final_data['Population 25 years and over!!High school graduate (includes equivalency)'][final_data['Crime_Rates'] < 1000].astype(int), final_data['ROBBERY'][final_data['Crime_Rates'] < 1000].astype(int) )"
   ]
  },
  {
   "cell_type": "code",
   "execution_count": null,
   "id": "085b7020-53ed-46f6-830d-a21a28f6e52b",
   "metadata": {},
   "outputs": [],
   "source": [
    "figure, axis = plt.subplots(2,2)\n",
    "\n",
    "axis[0,0].scatter(final_data['Population 25 years and over!!High school graduate (includes equivalency)'].astype(int), final_data['ROBBERY'].astype(int))\n",
    "axis[1,0].scatter(final_data['Population 25 years and over!!High school graduate (includes equivalency)'].astype(int), final_data['MURDER'].astype(int))\n",
    "axis[1,1].scatter(final_data['Population 25 years and over!!High school graduate (includes equivalency)'].astype(int), final_data['RAPE'].astype(int))\n",
    "axis[0,1].scatter(final_data['Population 25 years and over!!High school graduate (includes equivalency)'].astype(int), final_data['AGASSLT'].astype(int))\n",
    "r = np.corrcoef(final_data['Population 25 years and over!!High school graduate (includes equivalency)'].astype(int), final_data['MURDER'].astype(int))\n",
    "r"
   ]
  },
  {
   "cell_type": "code",
   "execution_count": null,
   "id": "3759b913-887c-4020-b262-6aa5cbe740a0",
   "metadata": {},
   "outputs": [],
   "source": [
    "figure, axis = plt.subplots(2,2)\n",
    "educational_attainment = 'Population 25 years and over!!Graduate or professional degree'\n",
    "axis[0,0].scatter(final_data[educational_attainment].astype(int), final_data['ROBBERY'].astype(int))\n",
    "axis[1,0].scatter(final_data[educational_attainment].astype(int), final_data['MURDER'].astype(int))\n",
    "axis[1,1].scatter(final_data[educational_attainment].astype(int), final_data['RAPE'].astype(int))\n",
    "axis[0,1].scatter(final_data[educational_attainment].astype(int), final_data['AGASSLT'].astype(int))"
   ]
  },
  {
   "cell_type": "code",
   "execution_count": null,
   "id": "3483f9df-d04c-44dc-99a8-ad6bcd7a00ff",
   "metadata": {},
   "outputs": [],
   "source": [
    "figure, axis = plt.subplots(2,2)\n",
    "educational_attainment = \"Percent bachelor's degree or higher\"\n",
    "axis[0,0].scatter(final_data[educational_attainment].astype(int), final_data['ROBBERY'].astype(int))\n",
    "axis[1,0].scatter(final_data[educational_attainment].astype(int), final_data['MURDER'].astype(int))\n",
    "axis[1,1].scatter(final_data[educational_attainment].astype(int), final_data['RAPE'].astype(int))\n",
    "axis[0,1].scatter(final_data[educational_attainment].astype(int), final_data['AGASSLT'].astype(int))"
   ]
  },
  {
   "cell_type": "code",
   "execution_count": null,
   "id": "002472f0-3c44-4478-b543-bfed28dc5cde",
   "metadata": {},
   "outputs": [],
   "source": [
    "figure, axis = plt.subplots(2,2)\n",
    "educational_attainment = \"Population 25 years and over!!Associate's degree\"\n",
    "axis[0,0].scatter(final_data[educational_attainment].astype(int), final_data['ROBBERY'].astype(int))\n",
    "axis[1,0].scatter(final_data[educational_attainment].astype(int), final_data['MURDER'].astype(int))\n",
    "axis[1,1].scatter(final_data[educational_attainment].astype(int), final_data['RAPE'].astype(int))\n",
    "axis[0,1].scatter(final_data[educational_attainment].astype(int), final_data['AGASSLT'].astype(int))"
   ]
  },
  {
   "cell_type": "code",
   "execution_count": null,
   "id": "0f2e7e75-9aee-4fcb-a2c4-87220dff5289",
   "metadata": {},
   "outputs": [],
   "source": [
    "figure, axis = plt.subplots(2,2)\n",
    "educational_attainment = \"Population 25 years and over!!Some college, no degree\"\n",
    "axis[0,0].scatter(final_data[educational_attainment].astype(int), final_data['ROBBERY'].astype(int))\n",
    "axis[1,0].scatter(final_data[educational_attainment].astype(int), final_data['MURDER'].astype(int))\n",
    "axis[1,1].scatter(final_data[educational_attainment].astype(int), final_data['RAPE'].astype(int))\n",
    "axis[0,1].scatter(final_data[educational_attainment].astype(int), final_data['AGASSLT'].astype(int))"
   ]
  },
  {
   "cell_type": "code",
   "execution_count": null,
   "id": "f30f9e7e-5131-439f-b7a7-820837daf7a1",
   "metadata": {},
   "outputs": [],
   "source": [
    "def grapher_func(educational_attainment):\n",
    "    figure, axis = plt.subplots(2,2)\n",
    "    axis[0,0].scatter(final_data[educational_attainment].astype(int), final_data['ROBBERY'].astype(int))\n",
    "    axis[1,0].scatter(final_data[educational_attainment].astype(int), final_data['MURDER'].astype(int))\n",
    "    axis[1,1].scatter(final_data[educational_attainment].astype(int), final_data['RAPE'].astype(int))\n",
    "    axis[0,1].scatter(final_data[educational_attainment].astype(int), final_data['AGASSLT'].astype(int))\n",
    "    print(np.corrcoef(final_data[educational_attainment].astype(int), final_data['ROBBERY'].astype(int)))\n",
    "    print(np.corrcoef(final_data[educational_attainment].astype(int), final_data['MURDER'].astype(int)))\n",
    "    print(np.corrcoef(final_data[educational_attainment].astype(int), final_data['RAPE'].astype(int)))\n",
    "    print(np.corrcoef(final_data[educational_attainment].astype(int), final_data['AGASSLT'].astype(int)))"
   ]
  },
  {
   "cell_type": "code",
   "execution_count": null,
   "id": "8ac3add6-a5ee-498a-9072-01d7cd02b867",
   "metadata": {},
   "outputs": [],
   "source": [
    "grapher_func(\"Population 25 years and over!!Some college, no degree\")"
   ]
  },
  {
   "cell_type": "code",
   "execution_count": null,
   "id": "1e948d76-4b54-4629-810a-06b82b3636be",
   "metadata": {},
   "outputs": [],
   "source": [
    "grapher_func(\"Population 25 years and over!!Associate's degree\")"
   ]
  },
  {
   "cell_type": "code",
   "execution_count": null,
   "id": "00528218-6ce2-480c-b160-73d5e9373cc7",
   "metadata": {},
   "outputs": [],
   "source": [
    "final_data"
   ]
  },
  {
   "cell_type": "code",
   "execution_count": null,
   "id": "a2afa365-4b9a-41d0-baeb-fae57ebc6fce",
   "metadata": {},
   "outputs": [],
   "source": [
    "#lets remove everything with less than 10 counties\n",
    "final_data['FIPS_ST'].value_counts()"
   ]
  },
  {
   "cell_type": "code",
   "execution_count": null,
   "id": "a5682ad1-aa05-48ae-9fa9-573b3e48e7fd",
   "metadata": {},
   "outputs": [],
   "source": [
    "under_10_counties = ['Mississippi',\n",
    "       'Connecticut', 'West Virginia', 'New Hampshire', 'Montana', 'Maine',\n",
    "       'Idaho', 'Utah', 'North Dakota', 'Rhode Island', 'Kansas', 'Hawaii',\n",
    "       'Nebraska', 'Delaware', 'South Dakota', 'Nevada', 'Wyoming', 'Vermont']\n",
    "for i in under_10_counties:\n",
    "    final_data = final_data[final_data['FIPS_ST'] != i]"
   ]
  },
  {
   "cell_type": "code",
   "execution_count": null,
   "id": "37ac2d1b-ee51-4105-a2f3-ed751ff9348d",
   "metadata": {},
   "outputs": [],
   "source": [
    "final_data = final_data.reset_index(drop=True)"
   ]
  },
  {
   "cell_type": "code",
   "execution_count": null,
   "id": "26b11e71-210c-4661-9459-207be5d642ed",
   "metadata": {},
   "outputs": [],
   "source": [
    "not_included = pd.DataFrame(['Alaska', 'Connecticut', 'Delaware', 'Hawaii', 'Idaho', 'Illinois', 'Kansas', \n",
    "'Maine', 'Mississippi', 'Montana', 'Nebraska', 'Nevada', 'New Hampshire', \n",
    "'North Dakota', 'Rhode Island', 'South Dakota', 'Utah', 'Vermont', \n",
    "'West Virginia', 'Wyoming'], columns = ['Not Included States'])\n",
    "new_col_list = list()\n",
    "for i in not_included.index:\n",
    "    new_col_list.append(1)\n",
    "not_included['Number'] = new_col_list"
   ]
  },
  {
   "cell_type": "code",
   "execution_count": null,
   "id": "1ba92dfe-62e2-4616-a95f-ecd7b7ede648",
   "metadata": {},
   "outputs": [],
   "source": [
    "not_included"
   ]
  },
  {
   "cell_type": "code",
   "execution_count": null,
   "id": "09494d0f-edeb-4758-bba4-af438fc05c47",
   "metadata": {},
   "outputs": [],
   "source": [
    "type = 'Crime_Rates'\n",
    "for i in final_data['FIPS_ST'].value_counts().index:\n",
    "     print(np.corrcoef(final_data['Population 25 years and over!!Graduate or professional degree'][final_data[type][final_data['FIPS_ST'] == i].index].astype(int), final_data[type][final_data['FIPS_ST'] == i].astype(int))[0,1])"
   ]
  },
  {
   "cell_type": "code",
   "execution_count": null,
   "id": "b550a3e9-d4e9-4f7f-8f55-65db0215b2aa",
   "metadata": {},
   "outputs": [],
   "source": [
    "x= final_data['Population 25 years and over!!Graduate or professional degree'][final_data['Crime_Rates'][final_data['FIPS_ST'] == 'California'].index].astype(int)\n",
    "p = np.polyfit(final_data['Population 25 years and over!!Graduate or professional degree'][final_data['Crime_Rates'][final_data['FIPS_ST'] == 'California'].index].astype(int), np.log(final_data['Crime_Rates'][final_data['FIPS_ST'] == 'California'].astype(int)), 1)\n",
    "a = np.exp(p[1])\n",
    "b = p[0]\n",
    "x_fitted = np.linspace(np.min(x), np.max(x), 100)\n",
    "y_fitted = a * np.exp(b * x_fitted)"
   ]
  },
  {
   "cell_type": "code",
   "execution_count": null,
   "id": "698aadc4-4e50-4e0e-9941-b93ea8c2e81c",
   "metadata": {},
   "outputs": [],
   "source": [
    "plt.scatter(final_data['Population 25 years and over!!Graduate or professional degree'][final_data['Crime_Rates'][final_data['FIPS_ST'] == 'California'].index].astype(int), final_data['Crime_Rates'][final_data['FIPS_ST'] == 'California'].astype(int), color='skyblue')\n",
    "plt.xlabel('Population 25 years and over: Graduate or professional degree(%)')\n",
    "plt.ylabel('Crimes commited per Hundred Thousand')\n",
    "plt.title('Educational Attainment vs Crime Rates in California')\n",
    "plt.grid(axis='y')\n",
    "plt.ylim(ymin=0)\n",
    "plt.plot(x_fitted, y_fitted, label='Fitted curve', color='orange')\n",
    "legend_drawn_flag = True\n",
    "plt.legend([\"County\", \"Best-Fit Line\"], loc=0, frameon=legend_drawn_flag)\n",
    "np.corrcoef(final_data['Population 25 years and over!!Graduate or professional degree'][final_data['Crime_Rates'][final_data['FIPS_ST'] == 'California'].index].astype(int), final_data['Crime_Rates'][final_data['FIPS_ST'] == 'California'].astype(int))"
   ]
  },
  {
   "cell_type": "code",
   "execution_count": null,
   "id": "7c052d16-992e-464c-8adc-16be1dee0c54",
   "metadata": {},
   "outputs": [],
   "source": [
    "def exp_plotter(x,y):\n",
    "    p = np.polyfit(x, np.log(y), 1)\n",
    "    a = np.exp(p[1])\n",
    "    b = p[0]\n",
    "    x_fitted = np.linspace(np.min(x), np.max(x), 100)\n",
    "    y_fitted = a * np.exp(b * x_fitted)\n",
    "    plt.plot(x_fitted, y_fitted, label='Fitted curve', color='orange')"
   ]
  },
  {
   "cell_type": "code",
   "execution_count": null,
   "id": "e5fc87a5-d851-48a7-9352-3692dc7f3987",
   "metadata": {},
   "outputs": [],
   "source": [
    "type = 'MURDER'\n",
    "plt.scatter(final_data['Population 25 years and over!!Graduate or professional degree'][final_data[type][final_data['FIPS_ST'] == 'California'].index].astype(int), final_data[type][final_data['FIPS_ST'] == 'California'].astype(int), color='skyblue')\n",
    "plt.grid(axis='y')\n",
    "plt.ylim(ymin=0)\n",
    "exp_plotter(final_data['Population 25 years and over!!Graduate or professional degree'][final_data[type][(final_data['FIPS_ST'] == 'California') & (final_data[type] > 1)].index].astype(int), final_data[type][(final_data['FIPS_ST'] == 'California') & (final_data[type] > 1)].astype(int))\n",
    "legend_drawn_flag = True\n",
    "plt.legend([\"County\", \"Best-Fit Line\"], loc=0, frameon=legend_drawn_flag)\n",
    "plt.title('Educational Attainment vs Murder in California')\n",
    "plt.xlabel('Percentage of people with graduate or professional degree')\n",
    "plt.ylabel('Murders per 100,000 people')"
   ]
  },
  {
   "cell_type": "code",
   "execution_count": null,
   "id": "fc785479-19b8-4303-9081-1bb5bcc1ecdd",
   "metadata": {},
   "outputs": [],
   "source": [
    "type = 'RAPE'\n",
    "plt.scatter(final_data['Population 25 years and over!!Graduate or professional degree'][final_data[type][final_data['FIPS_ST'] == 'California'].index].astype(int), final_data[type][final_data['FIPS_ST'] == 'California'].astype(int), color='skyblue')\n",
    "plt.grid(axis='y')\n",
    "plt.ylim(ymin=0)\n",
    "exp_plotter(final_data['Population 25 years and over!!Graduate or professional degree'][final_data[type][final_data['FIPS_ST'] == 'California'].index].astype(int), final_data[type][final_data['FIPS_ST'] == 'California'].astype(int))\n",
    "legend_drawn_flag = True\n",
    "plt.legend([\"County\", \"Best-Fit Line\"], loc=0, frameon=legend_drawn_flag)\n",
    "plt.title('Educational Attainment vs Rape in California')\n",
    "plt.xlabel('Percentage of people with graduate or professional degree')\n",
    "plt.ylabel('Rapes per 100,000 people')"
   ]
  },
  {
   "cell_type": "code",
   "execution_count": null,
   "id": "1e5fc30e-2e51-4af3-ba8c-b823250b390d",
   "metadata": {},
   "outputs": [],
   "source": [
    "type = 'AGASSLT'\n",
    "plt.scatter(final_data['Population 25 years and over!!Graduate or professional degree'][final_data[type][final_data['FIPS_ST'] == 'California'].index].astype(int), final_data[type][final_data['FIPS_ST'] == 'California'].astype(int), color='skyblue')\n",
    "exp_plotter(final_data['Population 25 years and over!!Graduate or professional degree'][final_data[type][final_data['FIPS_ST'] == 'California'].index].astype(int), final_data[type][final_data['FIPS_ST'] == 'California'].astype(int))\n",
    "np.corrcoef(final_data['Population 25 years and over!!Graduate or professional degree'][final_data[type][final_data['FIPS_ST'] == 'California'].index].astype(int),  final_data[type][final_data['FIPS_ST'] == 'California'].astype(int))\n",
    "plt.grid(axis='y')\n",
    "plt.ylim(ymin=0)\n",
    "legend_drawn_flag = True\n",
    "plt.legend([\"County\", \"Best-Fit Line\"], loc=0, frameon=legend_drawn_flag)\n",
    "plt.title('Educational Attainment vs Aggravated Assaults in California')\n",
    "plt.xlabel('Percentage of people with graduate or professional degree')\n",
    "plt.ylabel('Aggravated Assaults per 100,000 people')"
   ]
  },
  {
   "cell_type": "code",
   "execution_count": null,
   "id": "876bf9c3-b841-4a35-8370-07d90341ee40",
   "metadata": {},
   "outputs": [],
   "source": [
    "type = 'ROBBERY'\n",
    "plt.scatter(final_data['Population 25 years and over!!Graduate or professional degree'][final_data[type][final_data['FIPS_ST'] == 'California'].index].astype(int), final_data[type][final_data['FIPS_ST'] == 'California'].astype(int), color='skyblue')\n",
    "exp_plotter(final_data['Population 25 years and over!!Graduate or professional degree'][final_data[type][final_data['FIPS_ST'] == 'California'].index].astype(int), final_data[type][final_data['FIPS_ST'] == 'California'].astype(int))\n",
    "plt.grid(axis='y')\n",
    "plt.ylim(ymin=0)\n",
    "plt.legend([\"County\", \"Best-Fit Line\"], loc=0, frameon=legend_drawn_flag)\n",
    "plt.title('Educational Attainment vs Robbery in California')\n",
    "plt.xlabel('Percentage of people with graduate or professional degree')\n",
    "plt.ylabel('Robberies per 100,000 people')"
   ]
  },
  {
   "cell_type": "code",
   "execution_count": null,
   "id": "9d1416fa-4156-4787-ba73-288a9ed7332a",
   "metadata": {},
   "outputs": [],
   "source": [
    "zero_data = np.zeros(shape=(30,5))\n",
    "correlation_df = pd.DataFrame(zero_data,columns= ['MURDER', 'RAPE', 'ROBBERY', 'AGASSLT','Crime_Rates'])"
   ]
  },
  {
   "cell_type": "code",
   "execution_count": null,
   "id": "6bf088d3-e198-4592-9835-0e6f62908a3d",
   "metadata": {},
   "outputs": [],
   "source": [
    "correlation_df = correlation_df.set_index(final_data['FIPS_ST'].value_counts().index)"
   ]
  },
  {
   "cell_type": "code",
   "execution_count": null,
   "id": "32ebc561-a11d-42a2-a807-7db82bac4a8f",
   "metadata": {},
   "outputs": [],
   "source": [
    "correlation_df"
   ]
  },
  {
   "cell_type": "code",
   "execution_count": null,
   "id": "a7b6cb24-6c27-489a-b4ed-fe523d8fb48b",
   "metadata": {},
   "outputs": [],
   "source": [
    "correlation_df.index"
   ]
  },
  {
   "cell_type": "code",
   "execution_count": null,
   "id": "88ee1021-b9ba-4075-a70d-f93ac3fa548e",
   "metadata": {},
   "outputs": [],
   "source": [
    "def correlation_calc(type, attainment):\n",
    "    for i in correlation_df.index:\n",
    "         correlation_df.loc[i,type] = np.corrcoef(final_data[attainment][final_data[type][final_data['FIPS_ST'] == i].index].astype(int), final_data[type][final_data['FIPS_ST'] == i].astype(int))[0,1]\n"
   ]
  },
  {
   "cell_type": "code",
   "execution_count": null,
   "id": "a8ac9bc2-bfb9-4e19-b5be-150945866a40",
   "metadata": {},
   "outputs": [],
   "source": [
    "for i in correlation_df.columns:\n",
    "    correlation_calc(i, \"Percent high school graduate or higher\")"
   ]
  },
  {
   "cell_type": "code",
   "execution_count": null,
   "id": "61be9ffe-cb2f-4ac2-9a6c-ec2a69efc8ce",
   "metadata": {},
   "outputs": [],
   "source": [
    "correlation_df"
   ]
  },
  {
   "cell_type": "code",
   "execution_count": null,
   "id": "a0182ac5-3366-41d0-a2a9-9133d5724e58",
   "metadata": {},
   "outputs": [],
   "source": [
    "correlation_df[correlation_df['Crime_Rates']<-.5]"
   ]
  },
  {
   "cell_type": "code",
   "execution_count": null,
   "id": "a0870e68-b69e-4b7d-ad08-671f75e62933",
   "metadata": {},
   "outputs": [],
   "source": [
    "for i in correlation_df.columns:\n",
    "    correlation_calc(i, \"Population 25 years and over!!Graduate or professional degree\")"
   ]
  },
  {
   "cell_type": "code",
   "execution_count": null,
   "id": "6d7dafc6-cc6b-4489-a286-0e2ad448897d",
   "metadata": {},
   "outputs": [],
   "source": [
    "plt.bar(correlation_df.columns,correlation_df.iloc[2], color='skyblue')\n",
    "plt.title('California: Graduate or Professional Degree/Crime Rates')\n",
    "plt.ylabel('Correlation')"
   ]
  },
  {
   "cell_type": "code",
   "execution_count": null,
   "id": "129bf3fa-1f69-436e-9218-89b0ab9033a1",
   "metadata": {},
   "outputs": [],
   "source": [
    "cali_corr_list = []\n",
    "state = 'California'\n",
    "for i in final_data.iloc[:,11:20].columns:\n",
    "    cali_corr_list.append(np.corrcoef(final_data[i][final_data['Crime_Rates'][final_data['FIPS_ST'] == state].index].astype(int), final_data['Crime_Rates'][final_data['FIPS_ST'] == state].astype(int))[0,1])\n",
    "cali_corr_list"
   ]
  },
  {
   "cell_type": "code",
   "execution_count": null,
   "id": "4161eaa8-f290-4f00-a16b-1f0e25fbeb93",
   "metadata": {},
   "outputs": [],
   "source": [
    "plt.bar(['<9th','9-12', 'HS Grad', 'College, No Deg', 'Asc Deg','Bac Deg', 'Grad/Prof','HS<','Bach<'],cali_corr_list, color='skyblue')\n",
    "plt.title('California: Correlations')\n",
    "plt.ylabel('Correlation')\n",
    "plt.xticks(rotation=90)\n",
    "plt.axhline(y=0, color='black')"
   ]
  },
  {
   "cell_type": "code",
   "execution_count": null,
   "id": "9e94e323-08c2-4aa2-8a58-093252dc3e1d",
   "metadata": {},
   "outputs": [],
   "source": [
    "for i in correlation_df.columns:\n",
    "    correlation_calc(i, \"Percent high school graduate or higher\")"
   ]
  },
  {
   "cell_type": "code",
   "execution_count": null,
   "id": "69130e89-43aa-4d5f-8356-4b56c753187e",
   "metadata": {},
   "outputs": [],
   "source": [
    "plt.bar(correlation_df.columns,correlation_df.iloc[8], color='skyblue')\n",
    "plt.title('Michigan: High School Graduate/Crime Rates')\n",
    "plt.ylabel('Correlation')"
   ]
  },
  {
   "cell_type": "code",
   "execution_count": null,
   "id": "314c1320-73f1-48fa-a012-55669477e3b3",
   "metadata": {},
   "outputs": [],
   "source": [
    "mich_corr_list = []\n",
    "state = 'Michigan'\n",
    "for i in final_data.iloc[:,11:20].columns:\n",
    "    mich_corr_list.append(np.corrcoef(final_data[i][final_data['Crime_Rates'][final_data['FIPS_ST'] == state].index].astype(int), final_data['Crime_Rates'][final_data['FIPS_ST'] == state].astype(int))[0,1])\n",
    "mich_corr_list"
   ]
  },
  {
   "cell_type": "code",
   "execution_count": null,
   "id": "b9fe80a5-5234-46c9-88e1-11f2734f4dae",
   "metadata": {},
   "outputs": [],
   "source": [
    "plt.bar(['<9th','9-12', 'HS Grad', 'College, No Deg', 'Asc Deg','Bac Deg', 'Grad/Prof','HS<','Bach<'],mich_corr_list, color='skyblue')\n",
    "plt.title('Michigan: Correlations')\n",
    "plt.ylabel('Correlation')\n",
    "plt.xticks(rotation=90)\n",
    "plt.axhline(y=0, color='black')"
   ]
  },
  {
   "cell_type": "code",
   "execution_count": null,
   "id": "2f5e78e9-c1b9-41ee-99d7-9bf7831e792e",
   "metadata": {},
   "outputs": [],
   "source": [
    "for i in correlation_df.columns:\n",
    "    correlation_calc(i, \"Percent high school graduate or higher\")"
   ]
  },
  {
   "cell_type": "code",
   "execution_count": null,
   "id": "30384382-b289-4ea2-b102-ea48afe613b7",
   "metadata": {},
   "outputs": [],
   "source": [
    "#number of states with a negative correlation\n",
    "states_neg_list = []\n",
    "correlation_cutoff = -.3\n",
    "for z in final_data.iloc[:,11:20].columns:\n",
    "    for i in correlation_df.columns:\n",
    "        correlation_calc(i, z)\n",
    "    print(z+': '+str(len(correlation_df[correlation_df['Crime_Rates']<correlation_cutoff].index)))\n",
    "    states_neg_list.append(len(correlation_df[correlation_df['Crime_Rates']<correlation_cutoff].index))\n",
    "plt.bar(['Less than 9th','9-12, no diploma', 'HS Grad', 'College, No Deg', \"Associate's Deg\",\"Bachelor's Deg\", 'Graduate/Proffessional Deg','HS Graduate & higher','Bachelors Deg & higher'], states_neg_list, color='skyblue')\n",
    "plt.xticks(rotation=90)\n",
    "plt.title('Number of States with correlation coefficient < -.3')\n",
    "plt.ylabel('Number of States')\n",
    "plt.xlabel('Type of Educational Attainment')"
   ]
  },
  {
   "cell_type": "code",
   "execution_count": null,
   "id": "37ff345f-5e2a-4fd2-9ede-c92abac94d17",
   "metadata": {},
   "outputs": [],
   "source": [
    "correlation_df.describe()"
   ]
  },
  {
   "cell_type": "code",
   "execution_count": null,
   "id": "0bdb0d69-ec11-4a27-aab6-3f421c8f08fe",
   "metadata": {},
   "outputs": [],
   "source": [
    "correlation_percentages_df = pd.DataFrame(np.zeros([2,9]), columns=['Less than 9th','9-12, no diploma', 'HS Grad', 'College, No Deg', \"Associate's Deg\",\"Bachelor's Deg\", 'Graduate/Proffessional Deg','HS Graduate & higher','Bachelors Deg & higher'], index=['Percent With Negative Correlation','Percent with Medium Negative Correlation (<-.3)'])\n",
    "correlation_percentages_df"
   ]
  },
  {
   "cell_type": "code",
   "execution_count": null,
   "id": "3e98f708-156e-4e89-ac87-f2fedf4ed7c5",
   "metadata": {},
   "outputs": [],
   "source": [
    "states_neg_list = []\n",
    "correlation_cutoff = 0\n",
    "for z in final_data.iloc[:,11:20].columns:\n",
    "    for i in correlation_df.columns:\n",
    "        correlation_calc(i, z)\n",
    "    states_neg_list.append(round((len(correlation_df[correlation_df['Crime_Rates']<correlation_cutoff].index)/30)*100))"
   ]
  },
  {
   "cell_type": "code",
   "execution_count": null,
   "id": "05b0f0b1-c423-418a-85c3-5d17ac9d4d98",
   "metadata": {},
   "outputs": [],
   "source": [
    "correlation_percentages_df.iloc[0] = states_neg_list"
   ]
  },
  {
   "cell_type": "code",
   "execution_count": null,
   "id": "f0d2a759-547d-47a2-8587-3c2a819d80ea",
   "metadata": {},
   "outputs": [],
   "source": [
    "states_neg_list = []\n",
    "correlation_cutoff = -.3\n",
    "for z in final_data.iloc[:,11:20].columns:\n",
    "    for i in correlation_df.columns:\n",
    "        correlation_calc(i, z)\n",
    "    states_neg_list.append(round((len(correlation_df[correlation_df['Crime_Rates']<correlation_cutoff].index)/30)*100))"
   ]
  },
  {
   "cell_type": "code",
   "execution_count": null,
   "id": "d3c85a10-16da-4fd8-bb01-b80362f45775",
   "metadata": {},
   "outputs": [],
   "source": [
    "correlation_percentages_df.iloc[1] = states_neg_list"
   ]
  },
  {
   "cell_type": "code",
   "execution_count": null,
   "id": "ff14ee18-1891-41ae-aa07-724380fcf404",
   "metadata": {},
   "outputs": [],
   "source": [
    "correlation_percentages_df.iloc[:,[2,4,5,6,7,8]]"
   ]
  },
  {
   "cell_type": "code",
   "execution_count": null,
   "id": "f857008a-9cea-4279-875d-6da02bd90a67",
   "metadata": {},
   "outputs": [],
   "source": [
    "plt.bar(correlation_percentages_df.columns, correlation_percentages_df.iloc[0], color='skyblue')\n",
    "plt.xticks(rotation=90)\n",
    "plt.title('Percentage of states with a negative correlation')\n",
    "plt.xlabel('Type of educational attainment')\n",
    "plt.ylabel('Percentage of States (%)')"
   ]
  },
  {
   "cell_type": "code",
   "execution_count": null,
   "id": "045bdeb1-ea8b-4b8e-a195-336611220ee5",
   "metadata": {},
   "outputs": [],
   "source": [
    "plt.bar(correlation_percentages_df.columns, correlation_percentages_df.iloc[1], color='skyblue')\n",
    "plt.xticks(rotation=90)\n",
    "plt.title('Percentage of states with negative correlation stronger than -.3')\n",
    "plt.xlabel('Type of educational attainment')\n",
    "plt.ylabel('Percentage of States (%)')"
   ]
  },
  {
   "cell_type": "code",
   "execution_count": null,
   "id": "428eed3d-2bb3-4798-9498-346b0014b594",
   "metadata": {},
   "outputs": [],
   "source": [
    "for i in correlation_df.columns:\n",
    "    correlation_calc(i, \"Percent high school graduate or higher\")"
   ]
  },
  {
   "cell_type": "code",
   "execution_count": null,
   "id": "ea37f66c-f8b5-460d-83e6-f636857ccd92",
   "metadata": {},
   "outputs": [],
   "source": [
    "col = []\n",
    "for val in (correlation_df['MURDER']+correlation_df['AGASSLT']+correlation_df['RAPE']+correlation_df['ROBBERY'])/4:\n",
    "    if val < 0:\n",
    "        col.append('skyblue')\n",
    "    else:\n",
    "        col.append('lightgrey')\n",
    "figure, ax = plt.subplots(1,1)\n",
    "ax.bar(X_axis, (correlation_df['MURDER']+correlation_df['AGASSLT']+correlation_df['RAPE']+correlation_df['ROBBERY'])/4, color=col) \n",
    "ax.set_xticks([])\n",
    "ax.set_xlabel('States')\n",
    "ax.set_ylabel('Pearson Correlation Value')\n",
    "ax.set_title('Correlation between High School or higher Graduation % and crime rates')\n",
    "anchored_text = AnchoredText(\"Positive Correlation\", loc=2)\n",
    "anchored_text1 = AnchoredText(\"Negative Correlation\", frameon=True, loc=3)\n",
    "ax.add_artist(anchored_text)\n",
    "ax.add_artist(anchored_text1)"
   ]
  },
  {
   "cell_type": "code",
   "execution_count": null,
   "id": "86e59aa6-8d70-4cf6-8655-c152f18194d6",
   "metadata": {},
   "outputs": [],
   "source": [
    "for i in correlation_df.columns:\n",
    "    correlation_calc(i, \"Population 25 years and over!!Bachelor's degree\")"
   ]
  },
  {
   "cell_type": "code",
   "execution_count": null,
   "id": "bf363f69-adb3-498a-8bf6-915f501c4965",
   "metadata": {},
   "outputs": [],
   "source": [
    "col = []\n",
    "for val in (correlation_df['MURDER']+correlation_df['AGASSLT']+correlation_df['RAPE']+correlation_df['ROBBERY'])/4:\n",
    "    if val < 0:\n",
    "        col.append('lightgrey')\n",
    "    else:\n",
    "        col.append('skyblue')\n",
    "figure, ax = plt.subplots(1,1)\n",
    "ax.bar(X_axis, (correlation_df['MURDER']+correlation_df['AGASSLT']+correlation_df['RAPE']+correlation_df['ROBBERY'])/4, color=col) \n",
    "ax.set_xticks([])\n",
    "ax.set_xlabel(\"States\")\n",
    "ax.set_ylabel('Pearson Correlation Value')\n",
    "ax.set_title(\"Correlation between Bachelor's Degree % and crime rates\")\n",
    "anchored_text = AnchoredText(\"Positive Correlation\", loc=2)\n",
    "anchored_text1 = AnchoredText(\"Negative Correlation\", frameon=True, loc=3)\n",
    "ax.add_artist(anchored_text)\n",
    "ax.add_artist(anchored_text1)"
   ]
  },
  {
   "cell_type": "code",
   "execution_count": null,
   "id": "452f05bc-1b82-4077-9058-d3aab9612912",
   "metadata": {},
   "outputs": [],
   "source": [
    "for i in correlation_df.columns:\n",
    "    correlation_calc(i, \"Population 25 years and over!!Associate's degree\")"
   ]
  },
  {
   "cell_type": "code",
   "execution_count": null,
   "id": "3ca58cf8-f75b-40c3-a44b-33f02e1187b2",
   "metadata": {},
   "outputs": [],
   "source": [
    "col = []\n",
    "for val in (correlation_df['MURDER']+correlation_df['AGASSLT']+correlation_df['RAPE']+correlation_df['ROBBERY'])/4:\n",
    "    if val < 0:\n",
    "        col.append('skyblue')\n",
    "    else:\n",
    "        col.append('lightgrey')\n",
    "figure, ax = plt.subplots(1,1)\n",
    "ax.bar(X_axis, (correlation_df['MURDER']+correlation_df['AGASSLT']+correlation_df['RAPE']+correlation_df['ROBBERY'])/4, color=col) \n",
    "ax.set_xticks([])\n",
    "ax.set_xlabel(\"States\")\n",
    "ax.set_ylabel('Pearson Correlation Value')\n",
    "ax.set_title(\"Correlation between Associate's Degree % and crime rates\")\n",
    "anchored_text = AnchoredText(\"Positive Correlation\", loc=2)\n",
    "anchored_text1 = AnchoredText(\"Negative Correlation\", frameon=True, loc=3)\n",
    "ax.add_artist(anchored_text)\n",
    "ax.add_artist(anchored_text1)"
   ]
  },
  {
   "cell_type": "code",
   "execution_count": null,
   "id": "6b7c0313-f60f-4467-9001-2053765aa6f8",
   "metadata": {},
   "outputs": [],
   "source": []
  },
  {
   "cell_type": "code",
   "execution_count": null,
   "id": "c6c702a3-17a0-4123-8d3b-d15212fe0881",
   "metadata": {},
   "outputs": [],
   "source": []
  },
  {
   "cell_type": "code",
   "execution_count": null,
   "id": "d3b95fe4-83a1-4c38-b644-09c31a431232",
   "metadata": {},
   "outputs": [],
   "source": []
  },
  {
   "cell_type": "code",
   "execution_count": null,
   "id": "95e4859d-7a8c-4868-b709-29d2a12ddeb2",
   "metadata": {},
   "outputs": [],
   "source": []
  }
 ],
 "metadata": {
  "kernelspec": {
   "display_name": "Python 3 (ipykernel)",
   "language": "python",
   "name": "python3"
  },
  "language_info": {
   "codemirror_mode": {
    "name": "ipython",
    "version": 3
   },
   "file_extension": ".py",
   "mimetype": "text/x-python",
   "name": "python",
   "nbconvert_exporter": "python",
   "pygments_lexer": "ipython3",
   "version": "3.12.4"
  }
 },
 "nbformat": 4,
 "nbformat_minor": 5
}
